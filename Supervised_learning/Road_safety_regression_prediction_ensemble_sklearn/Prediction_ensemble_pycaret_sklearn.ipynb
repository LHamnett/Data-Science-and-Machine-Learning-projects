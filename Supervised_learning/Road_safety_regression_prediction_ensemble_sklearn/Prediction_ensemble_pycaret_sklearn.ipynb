{
 "cells": [
  {
   "cell_type": "markdown",
   "metadata": {
    "id": "h-mW1bbpjp3V"
   },
   "source": [
    "# Star ratings prediction - model comparison and training\n",
    "\n",
    "##Introduction:\n",
    "\n"
   ]
  },
  {
   "cell_type": "code",
   "execution_count": null,
   "metadata": {
    "colab": {
     "base_uri": "https://localhost:8080/"
    },
    "executionInfo": {
     "elapsed": 631864,
     "status": "ok",
     "timestamp": 1611249777505,
     "user": {
      "displayName": "Leon Hamnett",
      "photoUrl": "",
      "userId": "09563772066889757761"
     },
     "user_tz": -60
    },
    "id": "v6haT7VFDf9-",
    "outputId": "d834bfa6-b399-4161-c7bb-8b9004843bd3"
   },
   "outputs": [
    {
     "name": "stdout",
     "output_type": "stream",
     "text": [
      "Mounted at /content/drive\n"
     ]
    }
   ],
   "source": [
    "from google.colab import drive\n",
    "drive.mount('/content/drive')"
   ]
  },
  {
   "cell_type": "code",
   "execution_count": null,
   "metadata": {
    "colab": {
     "base_uri": "https://localhost:8080/"
    },
    "executionInfo": {
     "elapsed": 615,
     "status": "ok",
     "timestamp": 1611249780781,
     "user": {
      "displayName": "Leon Hamnett",
      "photoUrl": "",
      "userId": "09563772066889757761"
     },
     "user_tz": -60
    },
    "id": "T-2QfOsZ82_j",
    "outputId": "f763576f-65d4-4d50-f772-b1d0dfb6b238"
   },
   "outputs": [
    {
     "name": "stdout",
     "output_type": "stream",
     "text": [
      "/content/drive/MyDrive/Omdena\n"
     ]
    }
   ],
   "source": [
    "cd /content/drive/MyDrive/Omdena/"
   ]
  },
  {
   "cell_type": "markdown",
   "metadata": {
    "id": "4_I-cryhd8_s"
   },
   "source": [
    "# Installations"
   ]
  },
  {
   "cell_type": "code",
   "execution_count": null,
   "metadata": {
    "colab": {
     "base_uri": "https://localhost:8080/"
    },
    "executionInfo": {
     "elapsed": 20254,
     "status": "ok",
     "timestamp": 1611249807471,
     "user": {
      "displayName": "Leon Hamnett",
      "photoUrl": "",
      "userId": "09563772066889757761"
     },
     "user_tz": -60
    },
    "id": "l79DCEAV-N6c",
    "outputId": "3993e386-3315-4d28-8a85-27f59ee3c5dc"
   },
   "outputs": [
    {
     "name": "stdout",
     "output_type": "stream",
     "text": [
      "Collecting fastparquet\n",
      "\u001b[?25l  Downloading https://files.pythonhosted.org/packages/c2/3e/970dcb3605c1d406be9304f00895bf89ca6b71162afa7f95c5a4032bf927/fastparquet-0.5.0.tar.gz (120kB)\n",
      "\r",
      "\u001b[K     |██▊                             | 10kB 26.2MB/s eta 0:00:01\r",
      "\u001b[K     |█████▍                          | 20kB 25.8MB/s eta 0:00:01\r",
      "\u001b[K     |████████▏                       | 30kB 19.0MB/s eta 0:00:01\r",
      "\u001b[K     |██████████▉                     | 40kB 18.2MB/s eta 0:00:01\r",
      "\u001b[K     |█████████████▌                  | 51kB 19.6MB/s eta 0:00:01\r",
      "\u001b[K     |████████████████▎               | 61kB 15.4MB/s eta 0:00:01\r",
      "\u001b[K     |███████████████████             | 71kB 15.7MB/s eta 0:00:01\r",
      "\u001b[K     |█████████████████████▊          | 81kB 16.2MB/s eta 0:00:01\r",
      "\u001b[K     |████████████████████████▍       | 92kB 15.0MB/s eta 0:00:01\r",
      "\u001b[K     |███████████████████████████     | 102kB 15.8MB/s eta 0:00:01\r",
      "\u001b[K     |█████████████████████████████▉  | 112kB 15.8MB/s eta 0:00:01\r",
      "\u001b[K     |████████████████████████████████| 122kB 15.8MB/s \n",
      "\u001b[?25hRequirement already satisfied: pandas>=1.1.0 in /usr/local/lib/python3.6/dist-packages (from fastparquet) (1.1.5)\n",
      "Collecting numba>=0.49\n",
      "\u001b[?25l  Downloading https://files.pythonhosted.org/packages/60/a5/a065e1e23a5ced6da6628bba7efec4de98f8970a59e034bb0639866631da/numba-0.52.0-cp36-cp36m-manylinux2014_x86_64.whl (3.1MB)\n",
      "\u001b[K     |████████████████████████████████| 3.2MB 36.1MB/s \n",
      "\u001b[?25hRequirement already satisfied: numpy>=1.11 in /usr/local/lib/python3.6/dist-packages (from fastparquet) (1.19.5)\n",
      "Collecting thrift>=0.11.0\n",
      "\u001b[?25l  Downloading https://files.pythonhosted.org/packages/97/1e/3284d19d7be99305eda145b8aa46b0c33244e4a496ec66440dac19f8274d/thrift-0.13.0.tar.gz (59kB)\n",
      "\u001b[K     |████████████████████████████████| 61kB 11.0MB/s \n",
      "\u001b[?25hRequirement already satisfied: pytz>=2017.2 in /usr/local/lib/python3.6/dist-packages (from pandas>=1.1.0->fastparquet) (2018.9)\n",
      "Requirement already satisfied: python-dateutil>=2.7.3 in /usr/local/lib/python3.6/dist-packages (from pandas>=1.1.0->fastparquet) (2.8.1)\n",
      "Requirement already satisfied: setuptools in /usr/local/lib/python3.6/dist-packages (from numba>=0.49->fastparquet) (51.3.3)\n",
      "Collecting llvmlite<0.36,>=0.35.0\n",
      "\u001b[?25l  Downloading https://files.pythonhosted.org/packages/9f/94/f05040ee3ec199c827a38426d78d0af9274c1e18ec9a592bb40954c952c8/llvmlite-0.35.0-cp36-cp36m-manylinux2010_x86_64.whl (25.3MB)\n",
      "\u001b[K     |████████████████████████████████| 25.3MB 135kB/s \n",
      "\u001b[?25hRequirement already satisfied: six>=1.7.2 in /usr/local/lib/python3.6/dist-packages (from thrift>=0.11.0->fastparquet) (1.15.0)\n",
      "Building wheels for collected packages: fastparquet, thrift\n",
      "  Building wheel for fastparquet (setup.py) ... \u001b[?25l\u001b[?25hdone\n",
      "  Created wheel for fastparquet: filename=fastparquet-0.5.0-cp36-cp36m-linux_x86_64.whl size=211214 sha256=8f56be2fa9d083ef77cfdab6d0695ce1abac8d9a2a97d1ede571df17e0fb5b47\n",
      "  Stored in directory: /root/.cache/pip/wheels/97/0e/da/e2122965947ab2bfbc20e31a968e998fc8932f7fcb0ed78ad0\n",
      "  Building wheel for thrift (setup.py) ... \u001b[?25l\u001b[?25hdone\n",
      "  Created wheel for thrift: filename=thrift-0.13.0-cp36-cp36m-linux_x86_64.whl size=345216 sha256=61179bfa38ac4d106f7a10e55064ec950ea830eb4b9db0a1d3f2a79520c4a157\n",
      "  Stored in directory: /root/.cache/pip/wheels/02/a2/46/689ccfcf40155c23edc7cdbd9de488611c8fdf49ff34b1706e\n",
      "Successfully built fastparquet thrift\n",
      "Installing collected packages: llvmlite, numba, thrift, fastparquet\n",
      "  Found existing installation: llvmlite 0.31.0\n",
      "    Uninstalling llvmlite-0.31.0:\n",
      "      Successfully uninstalled llvmlite-0.31.0\n",
      "  Found existing installation: numba 0.48.0\n",
      "    Uninstalling numba-0.48.0:\n",
      "      Successfully uninstalled numba-0.48.0\n",
      "Successfully installed fastparquet-0.5.0 llvmlite-0.35.0 numba-0.52.0 thrift-0.13.0\n"
     ]
    }
   ],
   "source": [
    "!pip install fastparquet"
   ]
  },
  {
   "cell_type": "markdown",
   "metadata": {
    "id": "T2rhRcCceApL"
   },
   "source": [
    "# Imports"
   ]
  },
  {
   "cell_type": "code",
   "execution_count": null,
   "metadata": {
    "id": "rmQMMazn9xAC"
   },
   "outputs": [],
   "source": [
    "# imports\n",
    "import pandas as pd\n",
    "#import fastparquet\n",
    "import numpy as np"
   ]
  },
  {
   "cell_type": "markdown",
   "metadata": {
    "id": "euKzWD3peHui"
   },
   "source": [
    "# Data Preprocessing"
   ]
  },
  {
   "cell_type": "code",
   "execution_count": null,
   "metadata": {
    "id": "UffKEO1W84Es"
   },
   "outputs": [],
   "source": [
    "# converting the parquet to pandas dataframe\n",
    "df = pd.read_parquet('all_star_all_ord_enc')"
   ]
  },
  {
   "cell_type": "code",
   "execution_count": null,
   "metadata": {
    "colab": {
     "base_uri": "https://localhost:8080/"
    },
    "executionInfo": {
     "elapsed": 581,
     "status": "ok",
     "timestamp": 1611249818642,
     "user": {
      "displayName": "Leon Hamnett",
      "photoUrl": "",
      "userId": "09563772066889757761"
     },
     "user_tz": -60
    },
    "id": "XbkH1wPEAwaS",
    "outputId": "31def248-ea8a-4a4d-967d-9763043a891b"
   },
   "outputs": [
    {
     "data": {
      "text/plain": [
       "(82859, 65)"
      ]
     },
     "execution_count": 6,
     "metadata": {
      "tags": []
     },
     "output_type": "execute_result"
    }
   ],
   "source": [
    "# checking the shape of df\n",
    "np.shape(df)"
   ]
  },
  {
   "cell_type": "code",
   "execution_count": null,
   "metadata": {
    "colab": {
     "base_uri": "https://localhost:8080/"
    },
    "executionInfo": {
     "elapsed": 522,
     "status": "ok",
     "timestamp": 1611249822146,
     "user": {
      "displayName": "Leon Hamnett",
      "photoUrl": "",
      "userId": "09563772066889757761"
     },
     "user_tz": -60
    },
    "id": "o2v_ZNuD-K-H",
    "outputId": "10a9a654-476b-4eb2-cf5d-5a9cdc364519"
   },
   "outputs": [
    {
     "data": {
      "text/plain": [
       "Index(['car_star_rating_star', 'motorcycle_star_rating_star',\n",
       "       'pedestrian_star_rating_star', 'bicycle_star_rating_star',\n",
       "       'vehicle_flow', 'motorcycle_percent', 'ped_peak_hour_flow_across',\n",
       "       'ped_peak_hour_flow_along_driver_side',\n",
       "       'ped_peak_hour_flow_along_passenger_side', 'bicycle_peak_hour_flow',\n",
       "       'carriageway', 'intersection_type', 'sidewalk_driver_side',\n",
       "       'sidewalk_passenger_side', 'facilities_for_bicycles',\n",
       "       'paved_shoulder_driver_side', 'paved_shoulder_passenger_side',\n",
       "       'property_access_points', 'roadside_severity_driver_side_object',\n",
       "       'skid_resistance_grip', 'curvature', 'median_type', 'number_of_lanes',\n",
       "       'ped_fencing', 'intersection_quality', 'intersecting_road_volume',\n",
       "       'roadside_severity_driver_side_distance',\n",
       "       'roadside_severity_passenger_side_distance',\n",
       "       'operating_speed_85th_percentile', 'operating_speed_mean',\n",
       "       'speed_limit', 'school_zone_crossing_supervisor', 'grade', 'lane_width',\n",
       "       'road_condition', 'ped_crossing_quality', 'sight_distance',\n",
       "       'quality_of_curve', 'area_type', 'shoulder_rumble_strips',\n",
       "       'street_lighting', 'speed_management', 'intersection_channelisation',\n",
       "       'delineation', 'school_zone_warning', 'upgrade_cost',\n",
       "       'motorcycle_observed_flow', 'bicycle_observed_flow',\n",
       "       'ped_observed_flow_across', 'ped_observed_flow_along_driver_side',\n",
       "       'ped_observed_flow_along_passenger_side', 'land_use_driver_side',\n",
       "       'land_use_passenger_side', 'motorcycle_speed_limit',\n",
       "       'truck_speed_limit', 'roadside_severity_passenger_side_object',\n",
       "       'service_road', 'roadworks', 'differential_speed_limits',\n",
       "       'centreline_rumble_strips', 'ped_crossing_facilities_inspected_road',\n",
       "       'ped_crossing_facilities_intersecting_road', 'vehicle_parking',\n",
       "       'facilities_for_motorised_two_wheelers', 'roads_that_cars_can_read'],\n",
       "      dtype='object')"
      ]
     },
     "execution_count": 7,
     "metadata": {
      "tags": []
     },
     "output_type": "execute_result"
    }
   ],
   "source": [
    "# checking column names\n",
    "df.columns"
   ]
  },
  {
   "cell_type": "markdown",
   "metadata": {
    "id": "pMoQXfonSB2k"
   },
   "source": [
    "### Choosing columns:"
   ]
  },
  {
   "cell_type": "code",
   "execution_count": null,
   "metadata": {
    "colab": {
     "base_uri": "https://localhost:8080/"
    },
    "executionInfo": {
     "elapsed": 821,
     "status": "ok",
     "timestamp": 1611249897357,
     "user": {
      "displayName": "Leon Hamnett",
      "photoUrl": "",
      "userId": "09563772066889757761"
     },
     "user_tz": -60
    },
    "id": "1jpwjCciIvLM",
    "outputId": "cfedfb2d-eb14-4817-c0b7-1ac3db49f7aa"
   },
   "outputs": [
    {
     "name": "stdout",
     "output_type": "stream",
     "text": [
      "Index(['car_star_rating_star', 'motorcycle_star_rating_star',\n",
      "       'pedestrian_star_rating_star', 'bicycle_star_rating_star',\n",
      "       'vehicle_flow', 'motorcycle_percent', 'ped_peak_hour_flow_across',\n",
      "       'ped_peak_hour_flow_along_driver_side',\n",
      "       'ped_peak_hour_flow_along_passenger_side', 'bicycle_peak_hour_flow',\n",
      "       'carriageway', 'intersection_type', 'sidewalk_driver_side',\n",
      "       'sidewalk_passenger_side', 'facilities_for_bicycles',\n",
      "       'paved_shoulder_driver_side', 'paved_shoulder_passenger_side',\n",
      "       'property_access_points', 'roadside_severity_driver_side_object',\n",
      "       'skid_resistance_grip', 'curvature', 'median_type', 'number_of_lanes',\n",
      "       'ped_fencing', 'intersection_quality', 'intersecting_road_volume',\n",
      "       'roadside_severity_driver_side_distance',\n",
      "       'roadside_severity_passenger_side_distance',\n",
      "       'operating_speed_85th_percentile', 'operating_speed_mean',\n",
      "       'speed_limit', 'school_zone_crossing_supervisor', 'grade', 'lane_width',\n",
      "       'road_condition', 'ped_crossing_quality', 'sight_distance',\n",
      "       'quality_of_curve', 'area_type', 'shoulder_rumble_strips',\n",
      "       'street_lighting', 'speed_management', 'intersection_channelisation',\n",
      "       'delineation', 'school_zone_warning', 'motorcycle_observed_flow',\n",
      "       'bicycle_observed_flow', 'ped_observed_flow_across',\n",
      "       'ped_observed_flow_along_driver_side',\n",
      "       'ped_observed_flow_along_passenger_side', 'land_use_driver_side',\n",
      "       'land_use_passenger_side', 'motorcycle_speed_limit',\n",
      "       'truck_speed_limit', 'roadside_severity_passenger_side_object',\n",
      "       'service_road', 'roadworks', 'differential_speed_limits',\n",
      "       'centreline_rumble_strips', 'ped_crossing_facilities_inspected_road',\n",
      "       'ped_crossing_facilities_intersecting_road', 'vehicle_parking',\n",
      "       'facilities_for_motorised_two_wheelers', 'roads_that_cars_can_read'],\n",
      "      dtype='object')\n"
     ]
    }
   ],
   "source": [
    "#features able to be automatically extracted within the pipeline\n",
    "\n",
    "likely_cols = ['car_star_rating_star', 'motorcycle_star_rating_star','pedestrian_star_rating_star',\n",
    "'bicycle_star_rating_star',\n",
    "                #from task 2\n",
    "       'vehicle_flow','motorcycle_percent', 'ped_peak_hour_flow_across',\n",
    "       'ped_peak_hour_flow_along_driver_side',\n",
    "       'ped_peak_hour_flow_along_passenger_side', 'bicycle_peak_hour_flow',\n",
    "       'motorcycle_observed_flow','bicycle_observed_flow',\n",
    "       'ped_observed_flow_across', 'ped_observed_flow_along_driver_side',\n",
    "       'ped_observed_flow_along_passenger_side',\n",
    "       #from task 7 \n",
    "       'curvature','area_type','speed_limit','lane_width','number_of_lanes']\n",
    "\n",
    "#        #maybe\n",
    "#        # from task 2\n",
    "# maybe_cols =  ['ped_fencing',,'truck_speed_limit',\n",
    "#        'motorcycle_speed_limit','speed_management',\n",
    "#        ,'intersecting_road_volume',\n",
    "#        #from task 7\n",
    "#       'school_zone_warning','intersection_type']\n",
    "\n",
    "# not_cols = ['carriageway','sidewalk_driver_side',\n",
    "#        'sidewalk_passenger_side', 'facilities_for_bicycles',\n",
    "#        'paved_shoulder_driver_side', 'paved_shoulder_passenger_side',\n",
    "#        'property_access_points', 'roadside_severity_driver_side_object',\n",
    "#        'skid_resistance_grip', , 'median_type', \n",
    "#        , 'intersection_quality',\n",
    "#        'roadside_severity_driver_side_distance',\n",
    "#        'roadside_severity_passenger_side_distance',\n",
    "#        'operating_speed_85th_percentile', 'operating_speed_mean',\n",
    "#        , 'school_zone_crossing_supervisor', 'grade',\n",
    "#        'road_condition', 'ped_crossing_quality', 'sight_distance',\n",
    "#        'quality_of_curve', , 'shoulder_rumble_strips',\n",
    "#        'street_lighting', , 'intersection_channelisation',\n",
    "#        'delineation',\n",
    "#         'land_use_driver_side',\n",
    "#        'land_use_passenger_side',\n",
    "#         'roadside_severity_passenger_side_object',\n",
    "#        'service_road', 'roadworks', 'differential_speed_limits',\n",
    "#        'centreline_rumble_strips', 'ped_crossing_facilities_inspected_road',\n",
    "#        'ped_crossing_facilities_intersecting_road', 'vehicle_parking',\n",
    "#        'facilities_for_motorised_two_wheelers', 'roads_that_cars_can_read']\n",
    "df_select = df.drop(columns='upgrade_cost')\n",
    "#df_select = df#[likely_cols]\n",
    "print(df_select.columns)"
   ]
  },
  {
   "cell_type": "code",
   "execution_count": null,
   "metadata": {
    "colab": {
     "base_uri": "https://localhost:8080/"
    },
    "executionInfo": {
     "elapsed": 949,
     "status": "ok",
     "timestamp": 1611249904470,
     "user": {
      "displayName": "Leon Hamnett",
      "photoUrl": "",
      "userId": "09563772066889757761"
     },
     "user_tz": -60
    },
    "id": "B9UbSzdZ5bXk",
    "outputId": "5af5ddc7-66da-4d25-8679-7261d0768aa0"
   },
   "outputs": [
    {
     "name": "stdout",
     "output_type": "stream",
     "text": [
      "(78716, 64)\n",
      "(4143, 64)\n"
     ]
    }
   ],
   "source": [
    "#split into train,valid,test splits\n",
    "#!pip install scikit-learn\n",
    "from sklearn.model_selection import train_test_split\n",
    "df_select_train, df_select_test = train_test_split(df_select,train_size = 0.95) \n",
    "print(df_select_train.shape)\n",
    "print(df_select_test.shape)"
   ]
  },
  {
   "cell_type": "code",
   "execution_count": null,
   "metadata": {
    "colab": {
     "base_uri": "https://localhost:8080/"
    },
    "executionInfo": {
     "elapsed": 546,
     "status": "ok",
     "timestamp": 1611249907653,
     "user": {
      "displayName": "Leon Hamnett",
      "photoUrl": "",
      "userId": "09563772066889757761"
     },
     "user_tz": -60
    },
    "id": "dEDuQnioSw9k",
    "outputId": "e23596ec-1473-4fa7-d5d7-2febe9840d26"
   },
   "outputs": [
    {
     "name": "stdout",
     "output_type": "stream",
     "text": [
      "x_train shape:  (78716, 60)\n",
      "x_test shape:  (4143, 60)\n",
      "y_train shape:  (78716, 4)\n",
      "y_test shape:  (4143, 4)\n",
      "x columns:\n",
      "Index(['vehicle_flow', 'motorcycle_percent', 'ped_peak_hour_flow_across',\n",
      "       'ped_peak_hour_flow_along_driver_side',\n",
      "       'ped_peak_hour_flow_along_passenger_side', 'bicycle_peak_hour_flow',\n",
      "       'carriageway', 'intersection_type', 'sidewalk_driver_side',\n",
      "       'sidewalk_passenger_side', 'facilities_for_bicycles',\n",
      "       'paved_shoulder_driver_side', 'paved_shoulder_passenger_side',\n",
      "       'property_access_points', 'roadside_severity_driver_side_object',\n",
      "       'skid_resistance_grip', 'curvature', 'median_type', 'number_of_lanes',\n",
      "       'ped_fencing', 'intersection_quality', 'intersecting_road_volume',\n",
      "       'roadside_severity_driver_side_distance',\n",
      "       'roadside_severity_passenger_side_distance',\n",
      "       'operating_speed_85th_percentile', 'operating_speed_mean',\n",
      "       'speed_limit', 'school_zone_crossing_supervisor', 'grade', 'lane_width',\n",
      "       'road_condition', 'ped_crossing_quality', 'sight_distance',\n",
      "       'quality_of_curve', 'area_type', 'shoulder_rumble_strips',\n",
      "       'street_lighting', 'speed_management', 'intersection_channelisation',\n",
      "       'delineation', 'school_zone_warning', 'motorcycle_observed_flow',\n",
      "       'bicycle_observed_flow', 'ped_observed_flow_across',\n",
      "       'ped_observed_flow_along_driver_side',\n",
      "       'ped_observed_flow_along_passenger_side', 'land_use_driver_side',\n",
      "       'land_use_passenger_side', 'motorcycle_speed_limit',\n",
      "       'truck_speed_limit', 'roadside_severity_passenger_side_object',\n",
      "       'service_road', 'roadworks', 'differential_speed_limits',\n",
      "       'centreline_rumble_strips', 'ped_crossing_facilities_inspected_road',\n",
      "       'ped_crossing_facilities_intersecting_road', 'vehicle_parking',\n",
      "       'facilities_for_motorised_two_wheelers', 'roads_that_cars_can_read'],\n",
      "      dtype='object')\n",
      "y columns:\n",
      "Index(['car_star_rating_star', 'motorcycle_star_rating_star',\n",
      "       'pedestrian_star_rating_star', 'bicycle_star_rating_star'],\n",
      "      dtype='object')\n"
     ]
    }
   ],
   "source": [
    "#split the train and test sets into x and y columns\n",
    "x_cols = df_select.columns[4:] #choose input columns\n",
    "y_cols = df_select.columns[0:4] #choose target (star ratings) columns\n",
    "\n",
    "#ake x train and test datasets\n",
    "df_x_train = df_select_train[x_cols] \n",
    "df_x_test = df_select_test[x_cols] \n",
    "\n",
    "#make y train and test datasets\n",
    "df_y_train = df_select_train[y_cols]\n",
    "df_y_test = df_select_test[y_cols]\n",
    "\n",
    "#check the shapes of the datasets\n",
    "print('x_train shape: ',df_x_train.shape)\n",
    "print('x_test shape: ',df_x_test.shape)\n",
    "print('y_train shape: ',df_y_train.shape)\n",
    "print('y_test shape: ',df_y_test.shape)\n",
    "\n",
    "#check the columns are correct\n",
    "print('x columns:')\n",
    "print(df_x_train.columns)\n",
    "print('y columns:')\n",
    "print(df_y_train.columns)"
   ]
  },
  {
   "cell_type": "markdown",
   "metadata": {
    "id": "LxUpcsM1eMk9"
   },
   "source": [
    "# Model Comparisons:\n",
    "\n",
    "In this section we will use the pycaret AutoML package to compare different models for predicting the star ratings. Pycaret is a 'low code' package meaning that with relatively few high level commands, a number of models can be trained and compared.\n",
    "\n",
    "There are two different modules available depending on whether the star ratings prediction is framed as a regression problem (numerical output e.g star rating of 3.2 which can be rounded down to 3.0) or classification problem (category output e.g 2 star).\n",
    "\n",
    "Regression Module Docs [https://pycaret.readthedocs.io/en/latest/api/regression.html#]\n",
    "\n",
    "Classification Module Docs [https://pycaret.readthedocs.io/en/latest/api/classification.html] \n"
   ]
  },
  {
   "cell_type": "code",
   "execution_count": null,
   "metadata": {
    "id": "Hmwm-bB1TY6G"
   },
   "outputs": [],
   "source": [
    "!pip install pycaret"
   ]
  },
  {
   "cell_type": "code",
   "execution_count": null,
   "metadata": {
    "id": "7XI6OQk9Tk4D"
   },
   "outputs": [],
   "source": [
    "#choose regression or classification and uncomment as needed\n",
    "#from pycaret.regression import * \n",
    "#from pycaret.classification import *\n",
    "\n",
    "#choose column data types:\n",
    "# Note: the datatypes given below are assuming ordinal encoding on all categorical input features has been applied\n",
    "# If target encoding is used , all of the target transformed nominal input features will need to be set as numerical\n",
    "# e.g num_cols = 'area_type_1.0','area_type_2.0','area_type_3.0' etc\n",
    "# If one-hot encoding is used, all columns will be set as numerical \n",
    "\n",
    "#select the columns which are numerical datatype\n",
    "num_cols = ['vehicle_flow']\n",
    "\n",
    "#select the input features which are categorical datatype\n",
    "cat_cols = ['motorcycle_percent', 'ped_peak_hour_flow_across',\n",
    "       'ped_peak_hour_flow_along_driver_side',\n",
    "       'ped_peak_hour_flow_along_passenger_side',\n",
    "       'bicycle_peak_hour_flow', 'carriageway', 'intersection_type',\n",
    "       'sidewalk_driver_side', 'sidewalk_passenger_side',\n",
    "       'facilities_for_bicycles', 'paved_shoulder_driver_side',\n",
    "       'paved_shoulder_passenger_side', 'property_access_points',\n",
    "       'roadside_severity_driver_side_object', 'skid_resistance_grip',\n",
    "       'curvature', 'median_type', 'number_of_lanes', 'ped_fencing',\n",
    "       'intersection_quality', 'intersecting_road_volume',\n",
    "       'roadside_severity_driver_side_distance',\n",
    "       'roadside_severity_passenger_side_distance',\n",
    "       'operating_speed_85th_percentile', 'operating_speed_mean',\n",
    "       'speed_limit', 'school_zone_crossing_supervisor', 'grade',\n",
    "       'lane_width', 'road_condition', 'ped_crossing_quality',\n",
    "       'sight_distance', 'quality_of_curve', 'area_type',\n",
    "       'shoulder_rumble_strips', 'street_lighting', 'speed_management',\n",
    "       'intersection_channelisation', 'delineation',\n",
    "       'school_zone_warning', 'motorcycle_observed_flow',\n",
    "       'bicycle_observed_flow', 'ped_observed_flow_across',\n",
    "       'ped_observed_flow_along_driver_side',\n",
    "       'ped_observed_flow_along_passenger_side', 'land_use_driver_side',\n",
    "       'land_use_passenger_side', 'motorcycle_speed_limit',\n",
    "       'truck_speed_limit', 'roadside_severity_passenger_side_object',\n",
    "       'service_road', 'roadworks', 'differential_speed_limits',\n",
    "       'centreline_rumble_strips',\n",
    "       'ped_crossing_facilities_inspected_road',\n",
    "       'ped_crossing_facilities_intersecting_road', 'vehicle_parking',\n",
    "       'facilities_for_motorised_two_wheelers',\n",
    "       'roads_that_cars_can_read']\n"
   ]
  },
  {
   "cell_type": "code",
   "execution_count": null,
   "metadata": {
    "id": "eJKSyzpjVVhD"
   },
   "outputs": [],
   "source": [
    "#we need to choose a target star rating column (car,motorbike,pedestrian,bicycle) that the models will try to predict:\n",
    "# in function below set target = df_y_train.car_star_rating_star\n",
    "# or target = df_y_train.motorcycle_star_rating_star\n",
    "# or target = df_y_train.pedestrian_star_rating_star\n",
    "# or target = df_y_train.bicycle_star_rating_star\n",
    "\n",
    "\n",
    "#now we set up the pycaret comparison engine to compare all of the models:\n",
    "#a summary screen should appear with the various options from the setup function, press enter to confirm or quit to change options\n",
    "comparison = setup(df_x_train,  #choose dataset with input features\n",
    "                   target=df_y_train.car_star_rating_star, # choose  star rating target\n",
    "                   use_gpu = True, #if True gives faster calculation for the more complicated models\n",
    "                   categorical_features=cat_cols, #set the categorical features\n",
    "                   numeric_features=num_cols, #set the numerical features\n",
    "                   normalize=False, normalize_method='minmax', #options for normalisation if not done previously\n",
    "                   preprocess=False, #automatically get data into appropiate formats to be passed into the model\n",
    "                   train_size=0.80, #choose percentage of the dataset to use for training\n",
    "                   fold=5 #choose number of cross fold validations (larger numbers mean more processing time is needed)\n",
    "                   )"
   ]
  },
  {
   "cell_type": "code",
   "execution_count": null,
   "metadata": {
    "id": "hVn_qPIXXQTV"
   },
   "outputs": [],
   "source": [
    "#now we run the model comparisons:\n",
    "compare_models()"
   ]
  },
  {
   "cell_type": "code",
   "execution_count": null,
   "metadata": {
    "id": "qcd_bUzGX6KG"
   },
   "outputs": [],
   "source": [
    "#other pycaret functions which may be useful:\n",
    "\n",
    "#create a specific model:\n",
    "#model = create_model('model_name') # choose model string from https://pycaret.readthedocs.io/en/latest/api/regression.html#pycaret.regression.create_model\n",
    "\n",
    "#tune a model's hyperparameters: (takes a long time, maybe smaller sample sizes can be used to tune the model and then a new model can be trained with the optimal hyperparameters on a largr dataset)\n",
    "#model_tuned = tune_model(model) \n",
    "\n",
    "#there are various ensemble methods such as blending,bagging,stacking and others which may increase predictive power\n",
    "#https://pycaret.readthedocs.io/en/latest/api/regression.html#pycaret.regression.ensemble_model\n",
    "\n",
    "#plot various model parameters (can be used to see importance of features) https://pycaret.readthedocs.io/en/latest/api/regression.html#pycaret.regression.plot_model\n",
    "#plot_model(model,plot='feature_all')"
   ]
  },
  {
   "cell_type": "markdown",
   "metadata": {
    "id": "xXJahnPHaaJJ"
   },
   "source": [
    "## Model Construction and Training\n",
    "\n",
    "In this section, now that the best performing models have been identified with pycaret, they will be implemented within sk-learn.\n",
    "\n",
    "It may be possible to use the pycaret package to implement the models as well but for the sake of simplicity and time limits during the project, sk-learn was chosen. \n",
    "\n",
    "During the project, when looking at regression models, the top three performing models were consistently as follows:\n",
    "\n",
    "1. Random forest regressor\n",
    "2. Extreme Gradient Boosting (xgboost) regressor\n",
    "3. Category Booster (catboost) regressor\n",
    "\n",
    "The random forest regressor can be used directly from the sk-learn package, and the other two models need to be installed and imported.\n",
    "\n",
    "During the project, it was also discovered that stacking the three individual models (essentially combining into a single 'meta-model') gives better accuracy when predicting star ratings."
   ]
  },
  {
   "cell_type": "code",
   "execution_count": null,
   "metadata": {
    "colab": {
     "base_uri": "https://localhost:8080/"
    },
    "executionInfo": {
     "elapsed": 12212,
     "status": "ok",
     "timestamp": 1611249931047,
     "user": {
      "displayName": "Leon Hamnett",
      "photoUrl": "",
      "userId": "09563772066889757761"
     },
     "user_tz": -60
    },
    "id": "JIU47IqN5Jys",
    "outputId": "83ae35ea-d8c9-45bf-9a95-145af12f07fd"
   },
   "outputs": [
    {
     "name": "stdout",
     "output_type": "stream",
     "text": [
      "Requirement already satisfied: xgboost==0.90 in /usr/local/lib/python3.6/dist-packages (0.90)\n",
      "Requirement already satisfied: numpy in /usr/local/lib/python3.6/dist-packages (from xgboost==0.90) (1.19.5)\n",
      "Requirement already satisfied: scipy in /usr/local/lib/python3.6/dist-packages (from xgboost==0.90) (1.4.1)\n",
      "Collecting catboost==0.24.4\n",
      "\u001b[?25l  Downloading https://files.pythonhosted.org/packages/20/37/bc4e0ddc30c07a96482abf1de7ed1ca54e59bba2026a33bca6d2ef286e5b/catboost-0.24.4-cp36-none-manylinux1_x86_64.whl (65.7MB)\n",
      "\u001b[K     |████████████████████████████████| 65.8MB 48kB/s \n",
      "\u001b[?25hRequirement already satisfied: scipy in /usr/local/lib/python3.6/dist-packages (from catboost==0.24.4) (1.4.1)\n",
      "Requirement already satisfied: numpy>=1.16.0 in /usr/local/lib/python3.6/dist-packages (from catboost==0.24.4) (1.19.5)\n",
      "Requirement already satisfied: pandas>=0.24.0 in /usr/local/lib/python3.6/dist-packages (from catboost==0.24.4) (1.1.5)\n",
      "Requirement already satisfied: plotly in /usr/local/lib/python3.6/dist-packages (from catboost==0.24.4) (4.4.1)\n",
      "Requirement already satisfied: matplotlib in /usr/local/lib/python3.6/dist-packages (from catboost==0.24.4) (3.2.2)\n",
      "Requirement already satisfied: six in /usr/local/lib/python3.6/dist-packages (from catboost==0.24.4) (1.15.0)\n",
      "Requirement already satisfied: graphviz in /usr/local/lib/python3.6/dist-packages (from catboost==0.24.4) (0.10.1)\n",
      "Requirement already satisfied: pytz>=2017.2 in /usr/local/lib/python3.6/dist-packages (from pandas>=0.24.0->catboost==0.24.4) (2018.9)\n",
      "Requirement already satisfied: python-dateutil>=2.7.3 in /usr/local/lib/python3.6/dist-packages (from pandas>=0.24.0->catboost==0.24.4) (2.8.1)\n",
      "Requirement already satisfied: retrying>=1.3.3 in /usr/local/lib/python3.6/dist-packages (from plotly->catboost==0.24.4) (1.3.3)\n",
      "Requirement already satisfied: kiwisolver>=1.0.1 in /usr/local/lib/python3.6/dist-packages (from matplotlib->catboost==0.24.4) (1.3.1)\n",
      "Requirement already satisfied: cycler>=0.10 in /usr/local/lib/python3.6/dist-packages (from matplotlib->catboost==0.24.4) (0.10.0)\n",
      "Requirement already satisfied: pyparsing!=2.0.4,!=2.1.2,!=2.1.6,>=2.0.1 in /usr/local/lib/python3.6/dist-packages (from matplotlib->catboost==0.24.4) (2.4.7)\n",
      "Installing collected packages: catboost\n",
      "Successfully installed catboost-0.24.4\n"
     ]
    }
   ],
   "source": [
    "#install models\n",
    "#note that the versions are given for compatability within the project for exporting models, the specific version can be removed if needed)\n",
    "\n",
    "#install xgboost \n",
    "!pip install xgboost==0.90\n",
    "#install catboost\n",
    "!pip install catboost==0.24.4"
   ]
  },
  {
   "cell_type": "code",
   "execution_count": null,
   "metadata": {
    "id": "z2ZoaZEEBA3K"
   },
   "outputs": [],
   "source": [
    "#import three best performing models\n",
    "from sklearn.ensemble import RandomForestRegressor\n",
    "import xgboost as xgb\n",
    "from catboost import CatBoostRegressor\n",
    "\n",
    "#import stacking model to improve accuracy of individual models\n",
    "from sklearn.ensemble import StackingRegressor\n",
    "\n",
    "#initiate models\n",
    "ran_for_reg = RandomForestRegressor() \n",
    "xgb_reg = xgb.XGBRegressor(objective='reg:squarederror',eval_metric='rmse')\n",
    "cat_boost_reg = CatBoostRegressor(loss_function='RMSE')\n",
    "\n",
    "#set a list of estimator models and their string shorthand to be passed into the stacking regressor\n",
    "\n",
    "estimators = [\n",
    "              ('rf', ran_for_reg),\n",
    "('xgb_reg', xgb_reg),\n",
    "('cat_boost',cat_boost_reg)\n",
    "]\n",
    "\n",
    "\n",
    "#choose appropiate target star rating to create a model to predict star rating and uncomment the two lines\n",
    "\n",
    "#car\n",
    "# stack_reg_car = StackingRegressor(estimators=estimators,verbose=2)\n",
    "# stack_reg_car.fit(df_x_train,df_y_train.car_star_rating_star) \n",
    "\n",
    "#motorcycle\n",
    "# stack_reg_motorcycle = StackingRegressor(estimators=estimators,verbose=2)\n",
    "# stack_reg_motorcycle.fit(df_x_train,df_y_train.motorcycle_star_rating_star)\n",
    "\n",
    "#pedestrian \n",
    "# stack_reg_pedest = StackingRegressor(estimators=estimators,verbose=2)\n",
    "# stack_reg_pedest.fit(df_x_train,df_y_train.pedestrian_star_rating_star) \n",
    "\n",
    "#bike\n",
    "stack_reg_bike = StackingRegressor(estimators=estimators,verbose=2)\n",
    "stack_reg_bike.fit(df_x_train,df_y_train.bicycle_star_rating_star)\n",
    "\n",
    "print('finished fitting')"
   ]
  },
  {
   "cell_type": "markdown",
   "metadata": {
    "id": "ZPYrFZhIedrB"
   },
   "source": [
    "### Model Evaluation:\n",
    "\n",
    "In this section we will save the model if needed and then evaluate the performance of the model on the testing set (data that the model has not seen before).\n",
    "\n",
    "#### Saving the model(optional):"
   ]
  },
  {
   "cell_type": "code",
   "execution_count": null,
   "metadata": {
    "colab": {
     "base_uri": "https://localhost:8080/"
    },
    "executionInfo": {
     "elapsed": 799,
     "status": "ok",
     "timestamp": 1611252013992,
     "user": {
      "displayName": "Leon Hamnett",
      "photoUrl": "",
      "userId": "09563772066889757761"
     },
     "user_tz": -60
    },
    "id": "2PJZL_pB4LDl",
    "outputId": "8fb9d0d4-5890-4599-cc27-2db1544afa40"
   },
   "outputs": [
    {
     "data": {
      "text/plain": [
       "['bike_star_rating_model_all_features.joblib']"
      ]
     },
     "execution_count": 20,
     "metadata": {
      "tags": []
     },
     "output_type": "execute_result"
    }
   ],
   "source": [
    "#save the model in joblib format if required\n",
    "from joblib import dump, load\n",
    "dump(stack_reg_bike,'bike_star_rating_model_all_features.joblib')\n",
    "#dump(<fitted_model_name>,'<filename>') e.g dump(stack_reg_car,'test.joblib') to save the stacked model for predicting car star ratings "
   ]
  },
  {
   "cell_type": "markdown",
   "metadata": {
    "id": "2eQqD1k9fRLP"
   },
   "source": [
    "#### Evaluating the model performance:"
   ]
  },
  {
   "cell_type": "code",
   "execution_count": null,
   "metadata": {
    "colab": {
     "base_uri": "https://localhost:8080/"
    },
    "executionInfo": {
     "elapsed": 3266,
     "status": "ok",
     "timestamp": 1611149833625,
     "user": {
      "displayName": "Leon Hamnett",
      "photoUrl": "",
      "userId": "09563772066889757761"
     },
     "user_tz": -60
    },
    "id": "MuOSf9SFAATN",
    "outputId": "0731701b-a6cc-4f70-c259-5cd00496eb36"
   },
   "outputs": [
    {
     "data": {
      "text/plain": [
       "array([2.37204381, 1.4571994 , 1.22105203, ..., 2.82534732, 1.85946549,\n",
       "       2.39226297])"
      ]
     },
     "execution_count": 11,
     "metadata": {
      "tags": []
     },
     "output_type": "execute_result"
    }
   ],
   "source": [
    "#now we use the test set input features to make predictions about the star rating\n",
    "#choose appropiate star rating type to predict:\n",
    "\n",
    "#predict car star rating\n",
    "y_preds = stack_reg_car.predict(df_x_test)\n",
    "\n",
    "#predict motorcycle star rating\n",
    "#y_preds = stack_reg_motorcycle.predict(df_x_test)\n",
    "\n",
    "#predict pedestrian star rating \n",
    "#y_preds = stack_reg_pedest.predict(df_x_test)\n",
    "\n",
    "#predict bicycle star rating\n",
    "#y_preds = stack_reg_bike.predict(df_x_test)\n",
    "\n",
    "#check to see y_preds has been filled correctly\n",
    "y_preds"
   ]
  },
  {
   "cell_type": "code",
   "execution_count": null,
   "metadata": {
    "colab": {
     "base_uri": "https://localhost:8080/",
     "height": 198
    },
    "executionInfo": {
     "elapsed": 1630,
     "status": "ok",
     "timestamp": 1610990482556,
     "user": {
      "displayName": "Leon Hamnett",
      "photoUrl": "",
      "userId": "09563772066889757761"
     },
     "user_tz": -60
    },
    "id": "qr-phQEIF4Aj",
    "outputId": "861967fb-a18e-41bc-f4e7-ae011ffd255b"
   },
   "outputs": [
    {
     "data": {
      "text/html": [
       "<div>\n",
       "<style scoped>\n",
       "    .dataframe tbody tr th:only-of-type {\n",
       "        vertical-align: middle;\n",
       "    }\n",
       "\n",
       "    .dataframe tbody tr th {\n",
       "        vertical-align: top;\n",
       "    }\n",
       "\n",
       "    .dataframe thead th {\n",
       "        text-align: right;\n",
       "    }\n",
       "</style>\n",
       "<table border=\"1\" class=\"dataframe\">\n",
       "  <thead>\n",
       "    <tr style=\"text-align: right;\">\n",
       "      <th></th>\n",
       "      <th>0</th>\n",
       "    </tr>\n",
       "  </thead>\n",
       "  <tbody>\n",
       "    <tr>\n",
       "      <th>0</th>\n",
       "      <td>3</td>\n",
       "    </tr>\n",
       "    <tr>\n",
       "      <th>1</th>\n",
       "      <td>2</td>\n",
       "    </tr>\n",
       "    <tr>\n",
       "      <th>2</th>\n",
       "      <td>1</td>\n",
       "    </tr>\n",
       "    <tr>\n",
       "      <th>3</th>\n",
       "      <td>1</td>\n",
       "    </tr>\n",
       "    <tr>\n",
       "      <th>4</th>\n",
       "      <td>1</td>\n",
       "    </tr>\n",
       "  </tbody>\n",
       "</table>\n",
       "</div>"
      ],
      "text/plain": [
       "   0\n",
       "0  3\n",
       "1  2\n",
       "2  1\n",
       "3  1\n",
       "4  1"
      ]
     },
     "execution_count": 76,
     "metadata": {
      "tags": []
     },
     "output_type": "execute_result"
    }
   ],
   "source": [
    "#now we round each prediction to the nearest integer to match up with the irap star ratings system\n",
    "#we use a method so that any value that would be rounded to zero receives a 1 instead\n",
    "\n",
    "#create a new dataframe with the predictions\n",
    "df_y_preds = pd.DataFrame(y_preds)\n",
    "\n",
    "#create a new dataframe with integers by rounding the previous values to 0 decimal places and converting to int type\n",
    "df_y_preds_int = df_y_preds.round(0).astype(int)\n",
    "\n",
    "#it is not possible to have a star rating of zero and so we replace any value of 0 with a 1\n",
    "df_y_preds_int = df_y_preds_int.replace(to_replace=0,value=1)\n",
    "\n",
    "#check to see the above steps have been applied correctly\n",
    "df_y_preds_int.head()"
   ]
  },
  {
   "cell_type": "code",
   "execution_count": null,
   "metadata": {
    "colab": {
     "base_uri": "https://localhost:8080/",
     "height": 171
    },
    "executionInfo": {
     "elapsed": 651,
     "status": "error",
     "timestamp": 1611161741719,
     "user": {
      "displayName": "Leon Hamnett",
      "photoUrl": "",
      "userId": "09563772066889757761"
     },
     "user_tz": -60
    },
    "id": "_H_VbG4fuPq2",
    "outputId": "a415e895-5bda-466b-eec9-5074893b7b1f"
   },
   "outputs": [
    {
     "ename": "NameError",
     "evalue": "ignored",
     "output_type": "error",
     "traceback": [
      "\u001b[0;31m---------------------------------------------------------------------------\u001b[0m",
      "\u001b[0;31mNameError\u001b[0m                                 Traceback (most recent call last)",
      "\u001b[0;32m<ipython-input-23-85d6a855e039>\u001b[0m in \u001b[0;36m<module>\u001b[0;34m()\u001b[0m\n\u001b[0;32m----> 1\u001b[0;31m \u001b[0mdf_y_preds_int\u001b[0m\u001b[0;34m.\u001b[0m\u001b[0mto_array\u001b[0m\u001b[0;34m(\u001b[0m\u001b[0;34m)\u001b[0m\u001b[0;34m\u001b[0m\u001b[0;34m\u001b[0m\u001b[0m\n\u001b[0m",
      "\u001b[0;31mNameError\u001b[0m: name 'df_y_preds_int' is not defined"
     ]
    }
   ],
   "source": [
    "df_y_preds_int.to_array()"
   ]
  },
  {
   "cell_type": "markdown",
   "metadata": {
    "id": "7ecei7KLhc6I"
   },
   "source": [
    "Now we check the performance of the model. Any metrics can be used but in this case we chose the r squared score and the mean square error as the most relevant metrics. \n",
    "\n",
    "We will also create a confusion matrix, which shows the number of predictions for each star rating as well as the actual star rating. If the model is performing well, the squares with the most numbers should be where the prediction matches the actual star rating."
   ]
  },
  {
   "cell_type": "code",
   "execution_count": null,
   "metadata": {
    "colab": {
     "base_uri": "https://localhost:8080/",
     "height": 606
    },
    "executionInfo": {
     "elapsed": 1491,
     "status": "ok",
     "timestamp": 1610990494790,
     "user": {
      "displayName": "Leon Hamnett",
      "photoUrl": "",
      "userId": "09563772066889757761"
     },
     "user_tz": -60
    },
    "id": "x_jiqeXjHnzf",
    "outputId": "e7f5bcfc-62f6-4c0d-ef3a-e04d87d29c3d"
   },
   "outputs": [
    {
     "name": "stdout",
     "output_type": "stream",
     "text": [
      "bicycle_star_rating_star  results:\n",
      "R2 = 0.6721410022724251\n",
      "MSE = 0.4573980207579049\n",
      "[[1349  278   58    8    6]\n",
      " [  80  737  167    9    0]\n",
      " [   7  224  676   57    5]\n",
      " [   0    8  106  110   10]\n",
      " [   4   11   47  106   80]]\n"
     ]
    },
    {
     "data": {
      "image/png": "[encoded data removed]",
      "text/plain": [
       "<Figure size 432x432 with 2 Axes>"
      ]
     },
     "metadata": {
      "needs_background": "light",
      "tags": []
     },
     "output_type": "display_data"
    },
    {
     "name": "stdout",
     "output_type": "stream",
     "text": [
      "r2_list:  [0.6721410022724251]\n",
      "mse_list:  [0.4573980207579049]\n",
      "0.6721410022724251,0.4573980207579049\n"
     ]
    }
   ],
   "source": [
    "#import metrics\n",
    "from sklearn.metrics import confusion_matrix as cm\n",
    "from sklearn.metrics import mean_squared_error as mse\n",
    "from sklearn.metrics import  r2_score as r2\n",
    "\n",
    "#import visualisation tools\n",
    "import seaborn \n",
    "import matplotlib.pyplot as plt\n",
    "\n",
    "labels = ['1 star','2 star','3 star','4 star','5 star']\n",
    "\n",
    "#choose appropiate target (make sure it matches the target type used to make the predictions)\n",
    "target = 0 #car_star_rating\n",
    "target = 1 #motorbike star rating\n",
    "target = 2 #pedestrian star rating\n",
    "target = 3 #bicycle star rating\n",
    "\n",
    "print(df_y_test.columns[target],' results:') #change based on star rating: order 'car_star_rating_star', 'motorcycle_star_rating_star',  'pedestrian_star_rating_star', 'bicycle_star_rating_star'\n",
    "y_true_temp  = df_y_test[df_y_test.columns[target]] #change based on star rating\n",
    "y_pred_temp = df_y_preds_int\n",
    "\n",
    "#show metrics\n",
    "  #r2\n",
    "r2_temp = r2(y_true_temp,y_pred_temp)\n",
    "print('R2 score =',r2_temp) \n",
    "\n",
    "#mse\n",
    "mse_temp = mse(y_true_temp,y_pred_temp)\n",
    "print('MSE =',mse_temp)\n",
    "\n",
    "#show confusion matrix\n",
    "conf_mat =cm(y_true_temp,y_pred_temp) \n",
    "print(conf_mat)\n",
    "fig = plt.figure(figsize=(6,6))\n",
    "ax = fig.add_subplot(111)\n",
    "seaborn.heatmap(conf_mat,annot=True,cmap='Oranges',fmt='g')\n",
    "ax.set_xticklabels(labels,rotation=45)\n",
    "ax.set_yticklabels(labels,rotation=0)\n",
    "plt.xlabel('Predicted')\n",
    "plt.ylabel('True')\n",
    "plt.show()"
   ]
  },
  {
   "cell_type": "code",
   "execution_count": null,
   "metadata": {
    "id": "OUHlqKCr2Hvc"
   },
   "outputs": [],
   "source": []
  }
 ],
 "metadata": {
  "accelerator": "GPU",
  "colab": {
   "collapsed_sections": [],
   "name": "Star ratings prediction - model comparison and training.ipynb",
   "provenance": [
    {
     "file_id": "17piPr13moWho4Xz431HsH1X0DVPRY0uB",
     "timestamp": 1611154239280
    },
    {
     "file_id": "1AL_4W13njOlUKi9qTEPlZhMILdSfbRLZ",
     "timestamp": 1609957463991
    },
    {
     "file_id": "118p4qY3sMsW2rRoGp0M1TV4qY9eAOk3n",
     "timestamp": 1609768906999
    }
   ]
  },
  "kernelspec": {
   "display_name": "Python 3",
   "language": "python",
   "name": "python3"
  },
  "language_info": {
   "codemirror_mode": {
    "name": "ipython",
    "version": 3
   },
   "file_extension": ".py",
   "mimetype": "text/x-python",
   "name": "python",
   "nbconvert_exporter": "python",
   "pygments_lexer": "ipython3",
   "version": "3.7.6"
  }
 },
 "nbformat": 4,
 "nbformat_minor": 1
}
